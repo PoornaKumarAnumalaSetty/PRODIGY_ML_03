{
  "nbformat": 4,
  "nbformat_minor": 0,
  "metadata": {
    "colab": {
      "provenance": [],
      "gpuType": "T4"
    },
    "kernelspec": {
      "name": "python3",
      "display_name": "Python 3"
    },
    "language_info": {
      "name": "python"
    },
    "widgets": {
      "application/vnd.jupyter.widget-state+json": {
        "bf360f9e6a2e4b56ab57d18d9af9f3dc": {
          "model_module": "@jupyter-widgets/controls",
          "model_name": "HBoxModel",
          "model_module_version": "1.5.0",
          "state": {
            "_dom_classes": [],
            "_model_module": "@jupyter-widgets/controls",
            "_model_module_version": "1.5.0",
            "_model_name": "HBoxModel",
            "_view_count": null,
            "_view_module": "@jupyter-widgets/controls",
            "_view_module_version": "1.5.0",
            "_view_name": "HBoxView",
            "box_style": "",
            "children": [
              "IPY_MODEL_2f56c55d85914228b16b691eda00b557",
              "IPY_MODEL_91a346dd214145c790e55bc0ddae40a5",
              "IPY_MODEL_ab55e0bc55e748718d65da3735112c1f"
            ],
            "layout": "IPY_MODEL_d8f50e3e4a39464ab34c9a18b4ed1e80"
          }
        },
        "2f56c55d85914228b16b691eda00b557": {
          "model_module": "@jupyter-widgets/controls",
          "model_name": "HTMLModel",
          "model_module_version": "1.5.0",
          "state": {
            "_dom_classes": [],
            "_model_module": "@jupyter-widgets/controls",
            "_model_module_version": "1.5.0",
            "_model_name": "HTMLModel",
            "_view_count": null,
            "_view_module": "@jupyter-widgets/controls",
            "_view_module_version": "1.5.0",
            "_view_name": "HTMLView",
            "description": "",
            "description_tooltip": null,
            "layout": "IPY_MODEL_473d9d7b4af145f38fc663e6cfbe49ab",
            "placeholder": "​",
            "style": "IPY_MODEL_efbd8350e35b47b1abe56d22ca2a7fe2",
            "value": "Training SVM: 100%"
          }
        },
        "91a346dd214145c790e55bc0ddae40a5": {
          "model_module": "@jupyter-widgets/controls",
          "model_name": "FloatProgressModel",
          "model_module_version": "1.5.0",
          "state": {
            "_dom_classes": [],
            "_model_module": "@jupyter-widgets/controls",
            "_model_module_version": "1.5.0",
            "_model_name": "FloatProgressModel",
            "_view_count": null,
            "_view_module": "@jupyter-widgets/controls",
            "_view_module_version": "1.5.0",
            "_view_name": "ProgressView",
            "bar_style": "success",
            "description": "",
            "description_tooltip": null,
            "layout": "IPY_MODEL_788dcdaa25764023825e7e7ed9983f20",
            "max": 200,
            "min": 0,
            "orientation": "horizontal",
            "style": "IPY_MODEL_37f66ed29594472da555b80508052c44",
            "value": 200
          }
        },
        "ab55e0bc55e748718d65da3735112c1f": {
          "model_module": "@jupyter-widgets/controls",
          "model_name": "HTMLModel",
          "model_module_version": "1.5.0",
          "state": {
            "_dom_classes": [],
            "_model_module": "@jupyter-widgets/controls",
            "_model_module_version": "1.5.0",
            "_model_name": "HTMLModel",
            "_view_count": null,
            "_view_module": "@jupyter-widgets/controls",
            "_view_module_version": "1.5.0",
            "_view_name": "HTMLView",
            "description": "",
            "description_tooltip": null,
            "layout": "IPY_MODEL_4c7f9bea130249da8e3a79180264ce83",
            "placeholder": "​",
            "style": "IPY_MODEL_230abed33d3a41059230ef29e5e71506",
            "value": " 200/200 [00:04&lt;00:00, 42.15batch/s]"
          }
        },
        "d8f50e3e4a39464ab34c9a18b4ed1e80": {
          "model_module": "@jupyter-widgets/base",
          "model_name": "LayoutModel",
          "model_module_version": "1.2.0",
          "state": {
            "_model_module": "@jupyter-widgets/base",
            "_model_module_version": "1.2.0",
            "_model_name": "LayoutModel",
            "_view_count": null,
            "_view_module": "@jupyter-widgets/base",
            "_view_module_version": "1.2.0",
            "_view_name": "LayoutView",
            "align_content": null,
            "align_items": null,
            "align_self": null,
            "border": null,
            "bottom": null,
            "display": null,
            "flex": null,
            "flex_flow": null,
            "grid_area": null,
            "grid_auto_columns": null,
            "grid_auto_flow": null,
            "grid_auto_rows": null,
            "grid_column": null,
            "grid_gap": null,
            "grid_row": null,
            "grid_template_areas": null,
            "grid_template_columns": null,
            "grid_template_rows": null,
            "height": null,
            "justify_content": null,
            "justify_items": null,
            "left": null,
            "margin": null,
            "max_height": null,
            "max_width": null,
            "min_height": null,
            "min_width": null,
            "object_fit": null,
            "object_position": null,
            "order": null,
            "overflow": null,
            "overflow_x": null,
            "overflow_y": null,
            "padding": null,
            "right": null,
            "top": null,
            "visibility": null,
            "width": null
          }
        },
        "473d9d7b4af145f38fc663e6cfbe49ab": {
          "model_module": "@jupyter-widgets/base",
          "model_name": "LayoutModel",
          "model_module_version": "1.2.0",
          "state": {
            "_model_module": "@jupyter-widgets/base",
            "_model_module_version": "1.2.0",
            "_model_name": "LayoutModel",
            "_view_count": null,
            "_view_module": "@jupyter-widgets/base",
            "_view_module_version": "1.2.0",
            "_view_name": "LayoutView",
            "align_content": null,
            "align_items": null,
            "align_self": null,
            "border": null,
            "bottom": null,
            "display": null,
            "flex": null,
            "flex_flow": null,
            "grid_area": null,
            "grid_auto_columns": null,
            "grid_auto_flow": null,
            "grid_auto_rows": null,
            "grid_column": null,
            "grid_gap": null,
            "grid_row": null,
            "grid_template_areas": null,
            "grid_template_columns": null,
            "grid_template_rows": null,
            "height": null,
            "justify_content": null,
            "justify_items": null,
            "left": null,
            "margin": null,
            "max_height": null,
            "max_width": null,
            "min_height": null,
            "min_width": null,
            "object_fit": null,
            "object_position": null,
            "order": null,
            "overflow": null,
            "overflow_x": null,
            "overflow_y": null,
            "padding": null,
            "right": null,
            "top": null,
            "visibility": null,
            "width": null
          }
        },
        "efbd8350e35b47b1abe56d22ca2a7fe2": {
          "model_module": "@jupyter-widgets/controls",
          "model_name": "DescriptionStyleModel",
          "model_module_version": "1.5.0",
          "state": {
            "_model_module": "@jupyter-widgets/controls",
            "_model_module_version": "1.5.0",
            "_model_name": "DescriptionStyleModel",
            "_view_count": null,
            "_view_module": "@jupyter-widgets/base",
            "_view_module_version": "1.2.0",
            "_view_name": "StyleView",
            "description_width": ""
          }
        },
        "788dcdaa25764023825e7e7ed9983f20": {
          "model_module": "@jupyter-widgets/base",
          "model_name": "LayoutModel",
          "model_module_version": "1.2.0",
          "state": {
            "_model_module": "@jupyter-widgets/base",
            "_model_module_version": "1.2.0",
            "_model_name": "LayoutModel",
            "_view_count": null,
            "_view_module": "@jupyter-widgets/base",
            "_view_module_version": "1.2.0",
            "_view_name": "LayoutView",
            "align_content": null,
            "align_items": null,
            "align_self": null,
            "border": null,
            "bottom": null,
            "display": null,
            "flex": null,
            "flex_flow": null,
            "grid_area": null,
            "grid_auto_columns": null,
            "grid_auto_flow": null,
            "grid_auto_rows": null,
            "grid_column": null,
            "grid_gap": null,
            "grid_row": null,
            "grid_template_areas": null,
            "grid_template_columns": null,
            "grid_template_rows": null,
            "height": null,
            "justify_content": null,
            "justify_items": null,
            "left": null,
            "margin": null,
            "max_height": null,
            "max_width": null,
            "min_height": null,
            "min_width": null,
            "object_fit": null,
            "object_position": null,
            "order": null,
            "overflow": null,
            "overflow_x": null,
            "overflow_y": null,
            "padding": null,
            "right": null,
            "top": null,
            "visibility": null,
            "width": null
          }
        },
        "37f66ed29594472da555b80508052c44": {
          "model_module": "@jupyter-widgets/controls",
          "model_name": "ProgressStyleModel",
          "model_module_version": "1.5.0",
          "state": {
            "_model_module": "@jupyter-widgets/controls",
            "_model_module_version": "1.5.0",
            "_model_name": "ProgressStyleModel",
            "_view_count": null,
            "_view_module": "@jupyter-widgets/base",
            "_view_module_version": "1.2.0",
            "_view_name": "StyleView",
            "bar_color": null,
            "description_width": ""
          }
        },
        "4c7f9bea130249da8e3a79180264ce83": {
          "model_module": "@jupyter-widgets/base",
          "model_name": "LayoutModel",
          "model_module_version": "1.2.0",
          "state": {
            "_model_module": "@jupyter-widgets/base",
            "_model_module_version": "1.2.0",
            "_model_name": "LayoutModel",
            "_view_count": null,
            "_view_module": "@jupyter-widgets/base",
            "_view_module_version": "1.2.0",
            "_view_name": "LayoutView",
            "align_content": null,
            "align_items": null,
            "align_self": null,
            "border": null,
            "bottom": null,
            "display": null,
            "flex": null,
            "flex_flow": null,
            "grid_area": null,
            "grid_auto_columns": null,
            "grid_auto_flow": null,
            "grid_auto_rows": null,
            "grid_column": null,
            "grid_gap": null,
            "grid_row": null,
            "grid_template_areas": null,
            "grid_template_columns": null,
            "grid_template_rows": null,
            "height": null,
            "justify_content": null,
            "justify_items": null,
            "left": null,
            "margin": null,
            "max_height": null,
            "max_width": null,
            "min_height": null,
            "min_width": null,
            "object_fit": null,
            "object_position": null,
            "order": null,
            "overflow": null,
            "overflow_x": null,
            "overflow_y": null,
            "padding": null,
            "right": null,
            "top": null,
            "visibility": null,
            "width": null
          }
        },
        "230abed33d3a41059230ef29e5e71506": {
          "model_module": "@jupyter-widgets/controls",
          "model_name": "DescriptionStyleModel",
          "model_module_version": "1.5.0",
          "state": {
            "_model_module": "@jupyter-widgets/controls",
            "_model_module_version": "1.5.0",
            "_model_name": "DescriptionStyleModel",
            "_view_count": null,
            "_view_module": "@jupyter-widgets/base",
            "_view_module_version": "1.2.0",
            "_view_name": "StyleView",
            "description_width": ""
          }
        }
      }
    }
  },
  "cells": [
    {
      "cell_type": "code",
      "source": [
        "from google.colab import drive\n",
        "drive.mount('/content/drive')"
      ],
      "metadata": {
        "colab": {
          "base_uri": "https://localhost:8080/"
        },
        "id": "mUsa3GF4P4Tn",
        "outputId": "ab95c5a0-0596-4324-efda-b258341148fd"
      },
      "execution_count": 20,
      "outputs": [
        {
          "output_type": "stream",
          "name": "stdout",
          "text": [
            "Drive already mounted at /content/drive; to attempt to forcibly remount, call drive.mount(\"/content/drive\", force_remount=True).\n"
          ]
        }
      ]
    },
    {
      "cell_type": "code",
      "execution_count": 21,
      "metadata": {
        "id": "XRIJ8JcniYB5"
      },
      "outputs": [],
      "source": [
        "import zipfile\n",
        "import os\n",
        "import cv2\n",
        "import numpy as np\n",
        "from sklearn.model_selection import train_test_split\n",
        "from sklearn.svm import SVC\n",
        "from sklearn.metrics import accuracy_score\n",
        "import joblib\n",
        "import pandas as pd\n",
        "from tqdm.auto import tqdm\n",
        "\n",
        "# Define paths\n",
        "train_zip_path = '/content/drive/MyDrive/Datasets/Dogs and Cats/train.zip'\n",
        "test_zip_path = '/content/drive/MyDrive/Datasets/Dogs and Cats/test1.zip'"
      ]
    },
    {
      "cell_type": "code",
      "source": [
        "# Function to load images and labels directly from zip file based on filename patterns\n",
        "def load_images_and_labels_from_zip(zip_path):\n",
        "    images = []\n",
        "    labels = []\n",
        "    filenames = []\n",
        "    with zipfile.ZipFile(zip_path, 'r') as zip_ref:\n",
        "        for file_info in zip_ref.infolist():\n",
        "            if file_info.filename.endswith('.jpg') or file_info.filename.endswith('.png'):\n",
        "                label = 'cats' if 'cat' in file_info.filename.lower() else 'dogs'\n",
        "                filenames.append(file_info.filename)\n",
        "                with zip_ref.open(file_info.filename) as file:\n",
        "                    img_array = np.frombuffer(file.read(), np.uint8)\n",
        "                    img = cv2.imdecode(img_array, cv2.IMREAD_GRAYSCALE)\n",
        "                    if img is not None:\n",
        "                        img = cv2.resize(img, (64, 64))\n",
        "                        images.append(img.flatten())\n",
        "                        labels.append(0 if label == 'cats' else 1)\n",
        "    return np.array(images), np.array(labels), filenames\n",
        "\n",
        "# Function to load images directly from zip file without labels\n",
        "def load_images_from_zip(zip_path):\n",
        "    images = []\n",
        "    filenames = []\n",
        "    with zipfile.ZipFile(zip_path, 'r') as zip_ref:\n",
        "        for file_info in zip_ref.infolist():\n",
        "            if file_info.filename.endswith('.jpg') or file_info.filename.endswith('.png'):\n",
        "                with zip_ref.open(file_info.filename) as file:\n",
        "                    img_array = np.frombuffer(file.read(), np.uint8)\n",
        "                    img = cv2.imdecode(img_array, cv2.IMREAD_GRAYSCALE)\n",
        "                    if img is not None:\n",
        "                        img = cv2.resize(img, (64, 64))\n",
        "                        images.append(img.flatten())\n",
        "                        filenames.append(file_info.filename)\n",
        "    return np.array(images), filenames\n",
        "\n",
        "# Load training images and labels\n",
        "X_train, y_train, filenames = load_images_and_labels_from_zip(train_zip_path)"
      ],
      "metadata": {
        "id": "TvuK7waAuT0_"
      },
      "execution_count": 22,
      "outputs": []
    },
    {
      "cell_type": "code",
      "source": [
        "for i in range(20):\n",
        "    print(f\"Filename: {filenames[i]}, Label: {'cat' if y_train[i] == 0 else 'dog'}\")\n",
        "\n",
        "# Debugging: Check the distribution of labels\n",
        "print(f\"Number of samples in the dataset: {len(y_train)}\")\n",
        "print(f\"Number of cat samples: {np.sum(y_train == 0)}\")\n",
        "print(f\"Number of dog samples: {np.sum(y_train == 1)}\")\n",
        "\n",
        "# Check if we have more than one class\n",
        "if len(np.unique(y_train)) < 2:\n",
        "    raise ValueError(\"The number of classes has to be greater than one; check your dataset.\")"
      ],
      "metadata": {
        "id": "NNfKFGNlv5xg",
        "colab": {
          "base_uri": "https://localhost:8080/"
        },
        "outputId": "b60323a4-6e8a-46da-9400-a463ded60c80"
      },
      "execution_count": 23,
      "outputs": [
        {
          "output_type": "stream",
          "name": "stdout",
          "text": [
            "Filename: train/cat.0.jpg, Label: cat\n",
            "Filename: train/cat.1.jpg, Label: cat\n",
            "Filename: train/cat.10.jpg, Label: cat\n",
            "Filename: train/cat.100.jpg, Label: cat\n",
            "Filename: train/cat.1000.jpg, Label: cat\n",
            "Filename: train/cat.10000.jpg, Label: cat\n",
            "Filename: train/cat.10001.jpg, Label: cat\n",
            "Filename: train/cat.10002.jpg, Label: cat\n",
            "Filename: train/cat.10003.jpg, Label: cat\n",
            "Filename: train/cat.10004.jpg, Label: cat\n",
            "Filename: train/cat.10005.jpg, Label: cat\n",
            "Filename: train/cat.10006.jpg, Label: cat\n",
            "Filename: train/cat.10007.jpg, Label: cat\n",
            "Filename: train/cat.10008.jpg, Label: cat\n",
            "Filename: train/cat.10009.jpg, Label: cat\n",
            "Filename: train/cat.1001.jpg, Label: cat\n",
            "Filename: train/cat.10010.jpg, Label: cat\n",
            "Filename: train/cat.10011.jpg, Label: cat\n",
            "Filename: train/cat.10012.jpg, Label: cat\n",
            "Filename: train/cat.10013.jpg, Label: cat\n",
            "Number of samples in the dataset: 25000\n",
            "Number of cat samples: 12500\n",
            "Number of dog samples: 12500\n"
          ]
        }
      ]
    },
    {
      "cell_type": "code",
      "source": [
        "# Split the subset data into training and testing sets\n",
        "X_train, X_test_split, y_train, y_test_split = train_test_split(X_train, y_train, test_size=0.2, random_state=42)\n",
        "\n",
        "# Train the SVM model with progress bar\n",
        "svm_model = SVC(kernel='linear')\n",
        "batch_size = 100  # Define batch size\n",
        "num_batches = int(np.ceil(len(X_train) / batch_size))\n",
        "for i in tqdm(range(num_batches), desc=\"Training SVM\", unit=\"batch\"):\n",
        "    start = i * batch_size\n",
        "    end = min((i + 1) * batch_size, len(X_train))\n",
        "    svm_model.fit(X_train[start:end], y_train[start:end])\n",
        "\n",
        "# Save the trained model\n",
        "joblib.dump(svm_model, 'SVM Classifier.pkl')\n",
        "print(\"Model saved as 'SVM Classifier.pkl'\")"
      ],
      "metadata": {
        "id": "RmWa1pBxwDes",
        "colab": {
          "base_uri": "https://localhost:8080/",
          "height": 67,
          "referenced_widgets": [
            "bf360f9e6a2e4b56ab57d18d9af9f3dc",
            "2f56c55d85914228b16b691eda00b557",
            "91a346dd214145c790e55bc0ddae40a5",
            "ab55e0bc55e748718d65da3735112c1f",
            "d8f50e3e4a39464ab34c9a18b4ed1e80",
            "473d9d7b4af145f38fc663e6cfbe49ab",
            "efbd8350e35b47b1abe56d22ca2a7fe2",
            "788dcdaa25764023825e7e7ed9983f20",
            "37f66ed29594472da555b80508052c44",
            "4c7f9bea130249da8e3a79180264ce83",
            "230abed33d3a41059230ef29e5e71506"
          ]
        },
        "outputId": "5ca46282-6149-4166-f091-9769ae5cb9e8"
      },
      "execution_count": 24,
      "outputs": [
        {
          "output_type": "display_data",
          "data": {
            "text/plain": [
              "Training SVM:   0%|          | 0/200 [00:00<?, ?batch/s]"
            ],
            "application/vnd.jupyter.widget-view+json": {
              "version_major": 2,
              "version_minor": 0,
              "model_id": "bf360f9e6a2e4b56ab57d18d9af9f3dc"
            }
          },
          "metadata": {}
        },
        {
          "output_type": "stream",
          "name": "stdout",
          "text": [
            "Model saved as 'SVM Classifier.pkl'\n"
          ]
        }
      ]
    },
    {
      "cell_type": "code",
      "source": [
        "# Load the test images\n",
        "X_test, test_filenames = load_images_from_zip(test_zip_path)\n",
        "\n",
        "# Load the trained model\n",
        "svm_model = joblib.load('SVM Classifier.pkl')\n",
        "\n",
        "# Make predictions on the test set\n",
        "y_pred = svm_model.predict(X_test)\n",
        "\n",
        "# Save the predictions to a CSV file\n",
        "predictions_df = pd.DataFrame({\n",
        "    'Filename': test_filenames,\n",
        "    'PredictedLabel': y_pred\n",
        "})\n",
        "predictions_df['PredictedLabel'] = predictions_df['PredictedLabel'].map({0: 'cat', 1: 'dog'})\n",
        "predictions_df.to_csv('test_predictions.csv', index=False)\n",
        "\n",
        "print(\"Predictions saved to 'test_predictions.csv'\")"
      ],
      "metadata": {
        "id": "X1MRpgSmwJJ8",
        "colab": {
          "base_uri": "https://localhost:8080/"
        },
        "outputId": "9d3337a2-da68-414b-ffd8-a28a3306ee11"
      },
      "execution_count": 26,
      "outputs": [
        {
          "output_type": "stream",
          "name": "stdout",
          "text": [
            "Predictions saved to 'test_predictions.csv'\n"
          ]
        }
      ]
    }
  ]
}